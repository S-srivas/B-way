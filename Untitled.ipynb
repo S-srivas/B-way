{
 "cells": [
  {
   "cell_type": "code",
   "execution_count": 12,
   "metadata": {},
   "outputs": [
    {
     "name": "stdout",
     "output_type": "stream",
     "text": [
      "False\n",
      "Sorry, there are no active musicals\n",
      "<_io.TextIOWrapper name='Broadway.txt' mode='r' encoding='cp1252'>\n"
     ]
    }
   ],
   "source": [
    "file1 = open ('Broadway.txt', 'r')\n",
    "if \"Status\" in file1==\"Active\":\n",
    "    a = file1['Musical']\n",
    "    print('True', a)\n",
    "else:\n",
    "    print(\"False\")\n",
    "    print ('Sorry, there are no active musicals')\n",
    "    print(file1)"
   ]
  },
  {
   "cell_type": "code",
   "execution_count": 17,
   "metadata": {},
   "outputs": [
    {
     "name": "stdout",
     "output_type": "stream",
     "text": [
      "False\n"
     ]
    }
   ],
   "source": [
    "file2 = open ('Broadway2.txt', 'r')\n",
    "if \"Status\" in file2 is\"Active\":\n",
    "    print('True')\n",
    "else:\n",
    "    print(\"False\")"
   ]
  },
  {
   "cell_type": "code",
   "execution_count": null,
   "metadata": {},
   "outputs": [],
   "source": []
  }
 ],
 "metadata": {
  "kernelspec": {
   "display_name": "Python 3",
   "language": "python",
   "name": "python3"
  },
  "language_info": {
   "codemirror_mode": {
    "name": "ipython",
    "version": 3
   },
   "file_extension": ".py",
   "mimetype": "text/x-python",
   "name": "python",
   "nbconvert_exporter": "python",
   "pygments_lexer": "ipython3",
   "version": "3.6.4"
  }
 },
 "nbformat": 4,
 "nbformat_minor": 2
}
